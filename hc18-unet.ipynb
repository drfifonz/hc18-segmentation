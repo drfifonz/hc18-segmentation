{
 "cells": [
  {
   "cell_type": "code",
   "execution_count": 1,
   "metadata": {},
   "outputs": [],
   "source": [
    "import os\n",
    "import sys\n",
    "import os\n",
    "import csv\n",
    "import pandas as pd\n",
    "import random\n",
    "from random import shuffle\n",
    "import numpy as np\n",
    "from scipy import ndimage\n",
    "from PIL import Image\n",
    "from pathlib import Path\n",
    "from tqdm import tqdm\n",
    "from sklearn.model_selection import train_test_split\n"
   ]
  },
  {
   "attachments": {},
   "cell_type": "markdown",
   "metadata": {},
   "source": [
    "## Data preparation\n",
    "#### Generate masks\n"
   ]
  },
  {
   "cell_type": "code",
   "execution_count": 2,
   "metadata": {},
   "outputs": [],
   "source": [
    "# DECLARING CONSTANTS\n",
    "RANDOM_STATE = 2023  # for spliting data into train, val, test\n",
    "# Path to the data directory\n",
    "DATA_DIR = \"data\"\n",
    "# Paths to the images directories\n",
    "TRAIN_SET_DIR = \"training_set\"\n",
    "TRAIN_SET_LABELS_DIR = \"training_set_label\"\n",
    "TEST_SET_DIR = \"test_set\"\n",
    "# Path to the config directory\n",
    "CONFIG_DIR = \"config\"\n",
    "# Paths to the config files\n",
    "FETAL_HC_ALL = \"fetal_hc_all.csv\"\n",
    "FETAL_HC_TRAIN = \"fetal_hc_train.csv\"\n",
    "FETA_HC_VAL = \"fetal_hc_valid.csv\"\n",
    "FETAL_HC_TEST = \"fetal_hc_test.csv\"\n",
    "FETAL_HC_TEST_GT_SEG = \"fetal_hc_test_gt_seg.csv\""
   ]
  },
  {
   "cell_type": "code",
   "execution_count": 3,
   "metadata": {},
   "outputs": [],
   "source": [
    "def get_backgrouond(img: np.ndarray) -> np.ndarray:  # 2D or 3D\n",
    "    if img.sum() == 0:\n",
    "        print(\"the largest component is null\")\n",
    "        return img\n",
    "    if len(img.shape) == 3:  # is 3D\n",
    "        im_structure = ndimage.generate_binary_structure(3, 1)  # iterate structure\n",
    "    elif len(img.shape) == 2:  # is 2D\n",
    "        im_structure = ndimage.generate_binary_structure(2, 1)\n",
    "    else:\n",
    "        raise ValueError(\"the dimension number shoud be 2 or 3\")\n",
    "    labeled_array, _ = ndimage.label(img, im_structure)  # labeling\n",
    "    assert labeled_array.max() == 2\n",
    "    return np.asarray(labeled_array == 1, np.uint8)\n",
    "\n",
    "\n",
    "def get_segmentation_masks(root: str) -> None:\n",
    "    root = Path(root)\n",
    "    train_set = root / TRAIN_SET_DIR\n",
    "    target_dir = root / TRAIN_SET_LABELS_DIR\n",
    "    target_dir.mkdir(exist_ok=True)\n",
    "\n",
    "    file_paths = list(train_set.glob(\"*Annotation.png\"))\n",
    "\n",
    "    for file_path in tqdm(file_paths):\n",
    "        image = Image.open(file_path)\n",
    "\n",
    "        data = np.asarray(image)\n",
    "        data = np.asarray(data == 0)\n",
    "        data_bg = get_backgrouond(data)\n",
    "        data_fg = np.asarray(1.0 - data_bg, np.uint8) * 255\n",
    "\n",
    "        out_img = Image.fromarray(data_fg)\n",
    "\n",
    "        out_name = file_path.name.replace(\"Annotation\", \"seg\")\n",
    "        out_name = target_dir / out_name\n",
    "\n",
    "        out_img.save(out_name)\n"
   ]
  },
  {
   "cell_type": "code",
   "execution_count": 4,
   "metadata": {},
   "outputs": [
    {
     "name": "stderr",
     "output_type": "stream",
     "text": [
      " 79%|███████▉  | 792/999 [00:06<00:02, 97.41it/s] "
     ]
    }
   ],
   "source": [
    "get_segmentation_masks(DATA_DIR)"
   ]
  },
  {
   "cell_type": "code",
   "execution_count": null,
   "metadata": {},
   "outputs": [],
   "source": [
    "def create_train_csv_files(root: str) -> None:\n",
    "    root = Path(root)\n",
    "    config = Path(CONFIG_DIR)\n",
    "\n",
    "    all_names_file = config / FETAL_HC_ALL\n",
    "    train_names_file = config / FETAL_HC_TRAIN\n",
    "    valid_names_file = config / FETA_HC_VAL\n",
    "    test_names_file = config / FETAL_HC_TEST\n",
    "\n",
    "    images_dir = root / TRAIN_SET_DIR\n",
    "    label_dir = root / TRAIN_SET_LABELS_DIR\n",
    "\n",
    "    filenames = [str(path).replace(f\"{DATA_DIR}/\", \"\") for path in list(label_dir.iterdir())]\n",
    "    images_paths = [str(path).replace(f\"{DATA_DIR}/\", \"\") for path in list(images_dir.glob(\"*HC.png\"))]\n",
    "\n",
    "    df_all = pd.DataFrame({\"image\": images_paths, \"label\": filenames})\n",
    "    df_all.to_csv(all_names_file, index=False)\n",
    "\n",
    "    df_train, df_test = train_test_split(df_all, test_size=0.2, random_state=RANDOM_STATE)\n",
    "    df_train, df_valid = train_test_split(df_train, test_size=0.25, random_state=RANDOM_STATE)\n",
    "\n",
    "    df_train.to_csv(train_names_file, index=False)\n",
    "    df_valid.to_csv(valid_names_file, index=False)\n",
    "    df_test.to_csv(test_names_file, index=False)\n",
    "\n",
    "    df_gt_seg = pd.concat(\n",
    "        [\n",
    "            df_test[\"label\"],\n",
    "            df_test[\"label\"].apply(lambda x: filename_without_seg(x)),\n",
    "        ],\n",
    "        axis=1,\n",
    "    )\n",
    "    df_gt_seg.columns = [\"ground_truth\", \"segmentation\"]\n",
    "    df_gt_seg.to_csv(config / FETAL_HC_TEST_GT_SEG, index=False)\n",
    "\n",
    "\n",
    "def filename_without_seg(file_name: str) -> str:\n",
    "    file_name = file_name.replace(\"_seg\", \"\")\n",
    "    file_name = Path(file_name)\n",
    "    return str(file_name.stem + file_name.suffix)"
   ]
  },
  {
   "cell_type": "code",
   "execution_count": null,
   "metadata": {},
   "outputs": [],
   "source": [
    "create_train_csv_files(DATA_DIR)\n"
   ]
  },
  {
   "cell_type": "code",
   "execution_count": null,
   "metadata": {},
   "outputs": [],
   "source": [
    "!pymic_train config/unet.cfg"
   ]
  },
  {
   "cell_type": "code",
   "execution_count": null,
   "metadata": {},
   "outputs": [],
   "source": [
    "!mkdir -p result\n",
    "!pymic_train config/unet.cfg"
   ]
  },
  {
   "cell_type": "code",
   "execution_count": null,
   "metadata": {},
   "outputs": [],
   "source": [
    "!pymic_eval_seg config/evaluation.cfg"
   ]
  }
 ],
 "metadata": {
  "kernelspec": {
   "display_name": "pymic",
   "language": "python",
   "name": "python3"
  },
  "language_info": {
   "codemirror_mode": {
    "name": "ipython",
    "version": 3
   },
   "file_extension": ".py",
   "mimetype": "text/x-python",
   "name": "python",
   "nbconvert_exporter": "python",
   "pygments_lexer": "ipython3",
   "version": "3.10.11"
  },
  "orig_nbformat": 4
 },
 "nbformat": 4,
 "nbformat_minor": 2
}
